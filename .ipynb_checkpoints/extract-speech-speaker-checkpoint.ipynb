{
 "cells": [
  {
   "cell_type": "markdown",
   "id": "01cef2d8-c061-4d6b-bb6e-1416ccc1c1d7",
   "metadata": {},
   "source": [
    "# Import the full story"
   ]
  },
  {
   "cell_type": "markdown",
   "id": "27575422-4914-41fa-8efb-4493e9f7e88b",
   "metadata": {},
   "source": [
    "This code creates a list from the text file by creating a new item every time a new line is being created.\n",
    "\n",
    "e.g. for the two speeches:\n",
    "First Citizen:\n",
    "Before we proceed any further, hear me speak.\n",
    "\n",
    "All:\n",
    "Speak, speak.\n",
    "\n",
    "The code will consider the first instance of a new line as the point after \"First Citezen:\", so the line \"First Citezen:\" will be the first item.\n",
    "Then the next item starts at \"Before ...\" and ends at \"speak.\" since a new line starts there after"
   ]
  },
  {
   "cell_type": "code",
   "execution_count": 1,
   "id": "6e96ba6f-726f-47cc-b518-95b02ca5129f",
   "metadata": {},
   "outputs": [],
   "source": [
    "import pandas as pd\n",
    "\n",
    "# Load the text file and store each line in a list\n",
    "with open(\"full-story.txt\", \"r\", encoding=\"utf-8\") as f:\n",
    "    lines = f.readlines()"
   ]
  },
  {
   "cell_type": "markdown",
   "id": "f56e22c0-1e1d-4f0c-aef4-62ffad841ea4",
   "metadata": {},
   "source": [
    "# Extracting the speakers and speeches from the list\n",
    "\n",
    "From the list we can see that (after the 1st two items) a speaker is always found immediately after each item that contains '\\n', and the relevant speeches are found between a speaker and the next occuring '\\n' item.\n",
    "\n",
    "Therefore, in our logic we first create a list of all indexes where '\\n' items are found, and then we use that to locate the speaker and then speeches."
   ]
  },
  {
   "cell_type": "code",
   "execution_count": 2,
   "id": "dc8d395a-5c5b-4707-b856-5780702ea86b",
   "metadata": {},
   "outputs": [],
   "source": [
    "# Run a loop to create a list of indexes:\n",
    "\n",
    "n_indexes = []\n",
    "\n",
    "for i in range(len(lines)):\n",
    "    if lines[i] == '\\n':\n",
    "        n_indexes.append(i)"
   ]
  },
  {
   "cell_type": "code",
   "execution_count": 21,
   "id": "e5d61f62-380a-4995-81c5-1f0ad72cc480",
   "metadata": {},
   "outputs": [],
   "source": [
    "# Locate all the speakers\n",
    "\n",
    "speaker = []\n",
    "\n",
    "for i in n_indexes:\n",
    "    speaker.append(lines[i+1])"
   ]
  },
  {
   "cell_type": "code",
   "execution_count": 22,
   "id": "bc6d2e95-9fcf-443f-b98a-e17ff928bd74",
   "metadata": {},
   "outputs": [
    {
     "data": {
      "text/plain": [
       "310"
      ]
     },
     "execution_count": 22,
     "metadata": {},
     "output_type": "execute_result"
    }
   ],
   "source": [
    "# find the number of all unique values of speaker \n",
    "len(list(set(speaker)))"
   ]
  },
  {
   "cell_type": "code",
   "execution_count": 23,
   "id": "46d43b3d-0802-4fda-b9ff-86c8d29d35eb",
   "metadata": {},
   "outputs": [],
   "source": [
    "# Now locate the relevant speeches\n",
    "\n",
    "speech = []\n",
    "\n",
    "for i in range(len(n_indexes)):\n",
    "    if i+1 < len(n_indexes):\n",
    "        speech.append(lines[n_indexes[i]+1+1:n_indexes[i+1]])\n",
    "\n",
    "# cater for the final index\n",
    "speech.append(lines[n_indexes[-1]+1+1])"
   ]
  },
  {
   "cell_type": "code",
   "execution_count": 24,
   "id": "674cd9ee-4271-4b63-bf69-530ec6283046",
   "metadata": {},
   "outputs": [],
   "source": [
    "# Now we account for the first speaker and the first speech:\n",
    "\n",
    "speaker.insert(0, lines[0])\n",
    "speech.insert(0, lines[1])"
   ]
  },
  {
   "cell_type": "markdown",
   "id": "c2b2d0a5-35ae-4019-b92e-d27d7659543c",
   "metadata": {},
   "source": [
    "# Extract the data within delimiters to clean the text within\n",
    "\n",
    "For each of the new lists there are extra characters besides the actual speakers and speeches, so we need to clean them to only the relevant information"
   ]
  },
  {
   "cell_type": "code",
   "execution_count": 25,
   "id": "1662db72-a483-4124-b29e-ca0f85a9fd7c",
   "metadata": {},
   "outputs": [],
   "source": [
    "# Remove all delimiters in speaker and remove the one lined lists in speech\n",
    "for i in range(len(speaker)):\n",
    "    \n",
    "    speaker[i] = speaker[i].replace(\":\\n\",\"\")\n",
    "\n",
    "    if i == 0:\n",
    "        speech[i] = speech[i].replace(\"\\n\",\"\")\n",
    "    else:\n",
    "        if len(speech[i]) == 1:\n",
    "            speech[i] = speech[i][0].replace(\"\\n\",\"\")"
   ]
  },
  {
   "cell_type": "code",
   "execution_count": 28,
   "id": "118a4562-e028-4090-a464-9cec7b602581",
   "metadata": {},
   "outputs": [],
   "source": [
    "# Remove delimiters in speech for multilined speeches\n",
    "\n",
    "speech_indexes = []\n",
    "\n",
    "for i in range(len(speech)):\n",
    "    if type(speech[i]) == list:\n",
    "        speech_indexes.append(i)\n",
    "\n",
    "for n in speech_indexes:\n",
    "    speech_var = speech[n]\n",
    "    clean_speech_var = []\n",
    "\n",
    "    for i in range(len(speech_var)):\n",
    "        clean_speech_var.append(speech_var[i].replace(\"\\n\", \"\"))\n",
    "\n",
    "    speech.insert(n,clean_speech_var)\n",
    "    speech.pop(n+1)"
   ]
  },
  {
   "cell_type": "markdown",
   "id": "4c93945a-d000-489a-9047-eada28c468ef",
   "metadata": {},
   "source": [
    "# Combine the speaker and speech list into a dataframe"
   ]
  },
  {
   "cell_type": "code",
   "execution_count": 30,
   "id": "e1c80049-28fe-457a-b838-d19387cd22fe",
   "metadata": {},
   "outputs": [],
   "source": [
    "# Combine the two lists into rows\n",
    "data = list(zip(speaker, speech))\n",
    "\n",
    "# Convert nested lists in list_2 to comma-separated strings\n",
    "def flatten_cell(cell):\n",
    "    if isinstance(cell, list):\n",
    "        return ', '.join(cell)\n",
    "    return cell\n",
    "\n",
    "# Create the DataFrame\n",
    "df = pd.DataFrame(data, columns=['speaker', 'speech'])\n",
    "\n",
    "# Apply formatting to list_2\n",
    "df['speech'] = df['speech'].apply(flatten_cell)"
   ]
  },
  {
   "cell_type": "code",
   "execution_count": 31,
   "id": "c05fbe16-7aa2-4150-955c-2aa37bb6c319",
   "metadata": {},
   "outputs": [
    {
     "data": {
      "text/html": [
       "<div>\n",
       "<style scoped>\n",
       "    .dataframe tbody tr th:only-of-type {\n",
       "        vertical-align: middle;\n",
       "    }\n",
       "\n",
       "    .dataframe tbody tr th {\n",
       "        vertical-align: top;\n",
       "    }\n",
       "\n",
       "    .dataframe thead th {\n",
       "        text-align: right;\n",
       "    }\n",
       "</style>\n",
       "<table border=\"1\" class=\"dataframe\">\n",
       "  <thead>\n",
       "    <tr style=\"text-align: right;\">\n",
       "      <th></th>\n",
       "      <th>speaker</th>\n",
       "      <th>speech</th>\n",
       "    </tr>\n",
       "  </thead>\n",
       "  <tbody>\n",
       "    <tr>\n",
       "      <th>0</th>\n",
       "      <td>First Citizen</td>\n",
       "      <td>Before we proceed any further, hear me speak.</td>\n",
       "    </tr>\n",
       "    <tr>\n",
       "      <th>1</th>\n",
       "      <td>All</td>\n",
       "      <td>Speak, speak.</td>\n",
       "    </tr>\n",
       "    <tr>\n",
       "      <th>2</th>\n",
       "      <td>First Citizen</td>\n",
       "      <td>You are all resolved rather to die than to fam...</td>\n",
       "    </tr>\n",
       "    <tr>\n",
       "      <th>3</th>\n",
       "      <td>All</td>\n",
       "      <td>Resolved. resolved.</td>\n",
       "    </tr>\n",
       "    <tr>\n",
       "      <th>4</th>\n",
       "      <td>First Citizen</td>\n",
       "      <td>First, you know Caius Marcius is chief enemy t...</td>\n",
       "    </tr>\n",
       "    <tr>\n",
       "      <th>...</th>\n",
       "      <td>...</td>\n",
       "      <td>...</td>\n",
       "    </tr>\n",
       "    <tr>\n",
       "      <th>7219</th>\n",
       "      <td>ANTONIO</td>\n",
       "      <td>Nor I; my spirits are nimble., They fell toget...</td>\n",
       "    </tr>\n",
       "    <tr>\n",
       "      <th>7220</th>\n",
       "      <td>SEBASTIAN</td>\n",
       "      <td>What, art thou waking?</td>\n",
       "    </tr>\n",
       "    <tr>\n",
       "      <th>7221</th>\n",
       "      <td>ANTONIO</td>\n",
       "      <td>Do you not hear me speak?</td>\n",
       "    </tr>\n",
       "    <tr>\n",
       "      <th>7222</th>\n",
       "      <td>SEBASTIAN</td>\n",
       "      <td>I do; and surely, It is a sleepy language and ...</td>\n",
       "    </tr>\n",
       "    <tr>\n",
       "      <th>7223</th>\n",
       "      <td>ANTONIO</td>\n",
       "      <td>Noble Sebastian,\\n</td>\n",
       "    </tr>\n",
       "  </tbody>\n",
       "</table>\n",
       "<p>7224 rows × 2 columns</p>\n",
       "</div>"
      ],
      "text/plain": [
       "            speaker                                             speech\n",
       "0     First Citizen      Before we proceed any further, hear me speak.\n",
       "1               All                                      Speak, speak.\n",
       "2     First Citizen  You are all resolved rather to die than to fam...\n",
       "3               All                                Resolved. resolved.\n",
       "4     First Citizen  First, you know Caius Marcius is chief enemy t...\n",
       "...             ...                                                ...\n",
       "7219        ANTONIO  Nor I; my spirits are nimble., They fell toget...\n",
       "7220      SEBASTIAN                             What, art thou waking?\n",
       "7221        ANTONIO                          Do you not hear me speak?\n",
       "7222      SEBASTIAN  I do; and surely, It is a sleepy language and ...\n",
       "7223        ANTONIO                                 Noble Sebastian,\\n\n",
       "\n",
       "[7224 rows x 2 columns]"
      ]
     },
     "execution_count": 31,
     "metadata": {},
     "output_type": "execute_result"
    }
   ],
   "source": [
    "df"
   ]
  },
  {
   "cell_type": "code",
   "execution_count": null,
   "id": "5bcd0f66-2aaa-47cf-a060-f51ffd4eb596",
   "metadata": {},
   "outputs": [],
   "source": []
  }
 ],
 "metadata": {
  "kernelspec": {
   "display_name": "Python 3 (ipykernel)",
   "language": "python",
   "name": "python3"
  },
  "language_info": {
   "codemirror_mode": {
    "name": "ipython",
    "version": 3
   },
   "file_extension": ".py",
   "mimetype": "text/x-python",
   "name": "python",
   "nbconvert_exporter": "python",
   "pygments_lexer": "ipython3",
   "version": "3.10.12"
  }
 },
 "nbformat": 4,
 "nbformat_minor": 5
}
