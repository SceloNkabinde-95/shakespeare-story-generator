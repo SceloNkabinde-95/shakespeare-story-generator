import numpy as np
import pandas as pd

def transition_matrix(seq, sort_states=True):
    """
    Return an (n×n) DataFrame whose [i, j] entry counts
    how often state i is followed by state j in `seq`.
    """
    if len(seq) < 2:                    # nothing to count
        raise ValueError("Need at least two elements")

    # 1️⃣  Collect all unique states (optionally keep first‑seen order)
    if sort_states:
        states = sorted(set(seq))       # alphabetical / numeric order
    else:
        states = list(dict.fromkeys(seq))  # order of first appearance

    idx = {s: i for i, s in enumerate(states)}  # state → row/col index

    # 2️⃣  Allocate zero matrix and tally transitions
    m = np.zeros((len(states), len(states)), dtype=int)
    for a, b in zip(seq, seq[1:]):      # pair each item with its successor
        m[idx[a], idx[b]] += 1

    # 3️⃣  Wrap it in a DataFrame for readability
    return pd.DataFrame(m, index=states, columns=states)

# ── Example ────────────────────────────────────────────────────────────
x = ['a', 'b', 'd', 'a', 'c', 'b', 'a', 'd']
tm = transition_matrix(x, sort_states=True)
print(tm)




