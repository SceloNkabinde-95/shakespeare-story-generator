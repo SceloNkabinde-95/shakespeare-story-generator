


import numpy as np
import pandas as pd

data = pd.read_csv("speaker-speech.csv")





data['speaker'] = data['speaker'].str.replace('First Citizen', 'First_Citizen', regex=False)
data['speaker'] = data['speaker'].str.replace('Second Citizen', 'Second_Citizen', regex=False)


# convert the speaker column into a list

speaker = data['speaker'].tolist()

# initialize a data dictionary to store the different lists

data_dict = {}

# create a list of the unique speakers to loop through
unique_speaker = list(dict.fromkeys(speaker))

for talking in unique_speaker:
    data_dict[talking] = []  # Initialize the list for each speaker
    for i in range(len(data)):
        if data.loc[i, 'speaker'] == talking:
            data_dict[talking].append(data.loc[i, 'speech_cleaned'])





# List of lists of speeches
all_lists = [data_dict['First_Citizen'], data_dict['All'], data_dict['Second_Citizen'], data_dict['MENENIUS'], data_dict['MARCIUS']]

# Corresponding variable names for clarity
speaker_names = ['first_citizen', 'all', 'second_citizen', 'menenius', 'marcius']

# Store the resulting word counts in a dictionary
speech_words_count = {}

# Loop through each list and compute the count of words
for i in range(len(all_lists)):
    speech_list = all_lists[i]
    speech_list_count = []
    for j in range(len(speech_list)):
         speech_list_count.append(len(speech_list[j].split()))
    speech_words_count[speaker_names[i]] = speech_list_count


# save the files into CSVs

for name, word_count in speech_words_count.items():
    df = pd.DataFrame(word_count, columns=['word'])
    df.to_csv(f"{name}_word_count.csv", index=True)


all_count = pd.read_csv('all_word_count.csv')


all_count


all_transition_matrix = pd.read_csv('all_transition_matrix.csv')


all_transition_matrix = all_transition_matrix.iloc[:, 1:]
all_transition_matrix


all_transition_matrix.to_csv("all_transition_matrix.csv", index=True)



