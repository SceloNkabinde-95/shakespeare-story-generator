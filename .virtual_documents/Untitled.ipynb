import numpy as np
import pandas as pd


data = pd.read_csv("speaker-speech.csv")


data['speaker'] = data['speaker'].str.replace('First Citizen', 'First_Citizen', regex=False)
data['speaker'] = data['speaker'].str.replace('Second Citizen', 'Second_Citizen', regex=False)

data





speaker = data['speaker'].tolist()


# Get unique states in desired order

states = list(dict.fromkeys(speaker))
states


# find the index of each state
idx_map = {state: i for i, state in enumerate(states)}
idx_map


# Initialize zero matrix
n = len(states)
count_matrix = np.zeros((n, n), dtype=int)


count_matrix


# Fill transition counts
for current, next_ in zip(speaker, speaker[1:]):
    if current in idx_map and next_ in idx_map:
        i, j = idx_map[current], idx_map[next_]
        count_matrix[i, j] += 1

count_matrix


# Create DataFrame
df = pd.DataFrame(count_matrix, index=states, columns=states)


# Convert counts to probabilities row-wise
df = df.div(df.sum(axis=1), axis=0).fillna(0)

df





unique_speaker = states
unique_speaker


data_dict = {}

for talking in unique_speaker:
    data_dict[talking] = []  # Initialize the list for each speaker
    for i in range(len(data)):
        if data.loc[i, 'speaker'] == talking:
            data_dict[talking].append(data.loc[i, 'speech_cleaned'])


# Convert each list into a single space-separated string
for speaker in data_dict:
    data_dict[speaker] = ' '.join(data_dict[speaker])

First_Citizen = data_dict['First_Citizen']
All = data_dict['All']
Second_Citizen = data_dict['Second_Citizen']
MENENIUS = data_dict['MENENIUS']
MARCIUS = data_dict['MARCIUS']


# l = ['One word good citizens Would you proceed']
# split_words = l[0].split()

First_Citizen = First_Citizen.split()
All = All.split()
Second_Citizen = Second_Citizen.split()
MENENIUS = MENENIUS.split()
MARCIUS = MARCIUS.split()


# Make every letter a small case letter so that there's no distinction between the same word that is differentiated by capital letters
MARCIUS_2 = []

for item in MARCIUS:
    if isinstance(item, str):
        MARCIUS_2.append(item.lower())
    else:
       MARCIUS_2.append(item)






def transition_matrix(l):
    
    # Get unique states in desired order
    states = list(dict.fromkeys(l))

    # find the index of each state
    idx_map = {state: i for i, state in enumerate(states)}

    # Initialize zero matrix
    n = len(states)
    count_matrix = np.zeros((n, n), dtype=int)

    # Fill transition counts
    for current, next_ in zip(speaker, speaker[1:]):
        if current in idx_map and next_ in idx_map:
            i, j = idx_map[current], idx_map[next_]
            count_matrix[i, j] += 1

    # Create DataFrame
    df = pd.DataFrame(count_matrix, index=states, columns=states)


    # Convert counts to probabilities row-wise
    # df = df.div(df.sum(axis=1), axis=0).fillna(0)

    return df


MARCIUS_3 = transition_matrix(MARCIUS_2)
MARCIUS_3


# Check for any non-zero value
has_non_zero = (MARCIUS_3 != 0).any().any()

print(has_non_zero)


import numpy as np
import pandas as pd

def transition_matrix(seq, sort_states=True, normalize=False):
    """
    Creates a transition matrix from a sequence of states.

    Parameters:
    - seq: list of states (e.g., ['a', 'b', 'c'])
    - sort_states: if True, states are sorted alphabetically
                   if False, the order of first appearance is preserved
    - normalize: if True, returns a row-normalized probability matrix

    Returns:
    - pandas.DataFrame of transitions (counts or probabilities)
    """
    if len(seq) < 2:
        raise ValueError("Sequence must have at least two elements")

    # Get unique states in desired order
    if sort_states:
        states = sorted(set(seq))
    else:
        states = list(dict.fromkeys(seq))  # preserves first occurrence order

    idx_map = {state: i for i, state in enumerate(states)}
    n = len(states)

    # Initialize zero matrix
    count_matrix = np.zeros((n, n), dtype=int)

    # Fill transition counts
    for current, next_ in zip(seq, seq[1:]):
        if current in idx_map and next_ in idx_map:
            i, j = idx_map[current], idx_map[next_]
            count_matrix[i, j] += 1

    # Create DataFrame
    df = pd.DataFrame(count_matrix, index=states, columns=states)

    if normalize:
        # Convert counts to probabilities row-wise
        df = df.div(df.sum(axis=1), axis=0).fillna(0)

    return df

# ── Example usage ─────────────────────────────────────
x = ['a', 'b', 'd', 'a', 'c', 'b', 'a', 'd']

# Transition counts
transition_counts = transition_matrix(x, sort_states=True, normalize=False)
print("🔢 Transition Counts:")
print(transition_counts)

# Transition probabilities
transition_probs = transition_matrix(x, sort_states=True, normalize=True)
print("\n📊 Transition Probabilities:")
print(transition_probs.round(2))




