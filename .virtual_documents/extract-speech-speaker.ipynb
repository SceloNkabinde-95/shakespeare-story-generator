





import pandas as pd

# Load the text file and store each line in a list
with open("full-story.txt", "r", encoding="utf-8") as f:
    lines = f.readlines()





# Run a loop to create a list of indexes:

n_indexes = []

for i in range(len(lines)):
    if lines[i] == '\n':
        n_indexes.append(i)






