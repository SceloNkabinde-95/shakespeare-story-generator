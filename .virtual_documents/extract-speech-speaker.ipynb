





import pandas as pd

# Load the text file and store each line in a list
with open("full-story.txt", "r", encoding="utf-8") as f:
    lines = f.readlines()



