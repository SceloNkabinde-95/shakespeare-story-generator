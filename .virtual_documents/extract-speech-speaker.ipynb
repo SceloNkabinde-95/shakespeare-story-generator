





import pandas as pd

# Load the text file and store each line in a list
with open("final-story.txt", "r", encoding="utf-8") as f:
    lines = f.readlines()





# Run a loop to create a list of indexes:

n_indexes = []

for i in range(len(lines)):
    if lines[i] == '\n':
        n_indexes.append(i)


# Locate all the speakers

speaker = []

for i in n_indexes:
    speaker.append(lines[i+1])


# find the number of all unique values of speaker 
list(set(speaker))


# Now locate the relevant speeches

speech = []

for i in range(len(n_indexes)):
    if i+1 < len(n_indexes):
        speech.append(lines[n_indexes[i]+1+1:n_indexes[i+1]])

# cater for the final index
speech.append(lines[n_indexes[-1]+1+1])


# Now we account for the first speaker and the first speech:

speaker.insert(0, lines[0])
speech.insert(0, lines[1])





# Remove all delimiters in speaker and remove the one lined lists in speech
for i in range(len(speaker)):
    
    speaker[i] = speaker[i].replace(":\n","")

    if i == 0:
        speech[i] = speech[i].replace("\n","")
    else:
        if len(speech[i]) == 1:
            speech[i] = speech[i][0].replace("\n","")

speech[-1] = speech[-1].replace("\n","")


# Remove delimiters in speech for multilined speeches

speech_indexes = []

for i in range(len(speech)):
    if type(speech[i]) == list:
        speech_indexes.append(i)

for n in speech_indexes:
    speech_var = speech[n]
    clean_speech_var = []

    for i in range(len(speech_var)):
        clean_speech_var.append(speech_var[i].replace("\n", ""))

    speech.insert(n,clean_speech_var)
    speech.pop(n+1)





# Combine the two lists into rows
data = list(zip(speaker, speech))

# Convert nested lists in list_2 to comma-separated strings
def flatten_cell(cell):
    if isinstance(cell, list):
        return ', '.join(cell)
    return cell

# Create the DataFrame
df = pd.DataFrame(data, columns=['speaker', 'speech'])

# Apply formatting to list_2
df['speech'] = df['speech'].apply(flatten_cell)


df



