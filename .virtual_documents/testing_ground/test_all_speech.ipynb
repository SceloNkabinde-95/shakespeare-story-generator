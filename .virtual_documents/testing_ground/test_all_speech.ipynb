


import numpy as np
import pandas as pd

data = pd.read_csv("speaker-speech.csv")





data['speaker'] = data['speaker'].str.replace('First Citizen', 'First_Citizen', regex=False)
data['speaker'] = data['speaker'].str.replace('Second Citizen', 'Second_Citizen', regex=False)


# convert the speaker column into a list

speaker = data['speaker'].tolist()

# initialize a data dictionary to store the different lists

data_dict = {}

# create a list of the unique speakers to loop through
unique_speaker = list(dict.fromkeys(speaker))

for talking in unique_speaker:
    data_dict[talking] = []  # Initialize the list for each speaker
    for i in range(len(data)):
        if data.loc[i, 'speaker'] == talking:
            data_dict[talking].append(data.loc[i, 'speech_cleaned'])


All = data_dict['All']
All



