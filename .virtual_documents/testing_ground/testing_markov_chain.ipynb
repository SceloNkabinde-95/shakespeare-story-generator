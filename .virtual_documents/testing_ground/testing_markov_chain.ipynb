import numpy as np
import pandas as pd


curr_state1 = [950, 30, 20]
curr_state1


transition_matrix1 = [[0.95, 0.03, 0.02],[0.1, 0.8, 0.1],[0.09, 0.01, 0.9]]
transition_matrix1


len(transition_matrix[0])


def apply_transition_matrix(transition_matrix, curr_state):

    next_state = [0] * len(curr_state)
    
    for j in range(len(transition_matrix[0])):
            state_holder = [0] * len(curr_state)
            for i in range(len(curr_state)):
                
                calc = curr_state[i]*transition_matrix[i][j]
                state_holder[i] = calc
               
            next_state[j] = sum(state_holder)

    return next_state


next_state1 = apply_transition_matrix(transition_matrix1, curr_state1)
next_state1



