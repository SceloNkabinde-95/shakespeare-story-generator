


import numpy as np
import pandas as pd

data = pd.read_csv("speaker-speech.csv")





data['speaker'] = data['speaker'].str.replace('First Citizen', 'First_Citizen', regex=False)
data['speaker'] = data['speaker'].str.replace('Second Citizen', 'Second_Citizen', regex=False)








def transition_matrix(l):
    # l is the list that we input into the algorithm
    
    # Get unique states in desired order
    states = list(dict.fromkeys(l))

    # find the index of each state
    idx_map = {state: i for i, state in enumerate(states)}

    # Initialize zero matrix
    n = len(states)
    count_matrix = np.zeros((n, n), dtype=int)

    # Fill transition counts
    for current, next_ in zip(l, l[1:]):
        if current in idx_map and next_ in idx_map:
            i, j = idx_map[current], idx_map[next_]
            count_matrix[i, j] += 1

    # Create DataFrame
    df = pd.DataFrame(count_matrix, index=states, columns=states)


    # Convert counts to probabilities row-wise
    df = df.div(df.sum(axis=1), axis=0).fillna(0)

    return df





# convert the speaker column into a list

speaker = data['speaker'].tolist()

# run the list through the algorithm for final

speaker_transition_matrix = transition_matrix(speaker)


speaker_transition_matrix


# save into a csv

speaker_transition_matrix.to_csv("speaker_transition_matrix.csv", index=False)








# initialize a data dictionary to store the different lists

data_dict = {}

# create a list of the unique speakers to loop through
unique_speaker = list(dict.fromkeys(speaker))

for talking in unique_speaker:
    data_dict[talking] = []  # Initialize the list for each speaker
    for i in range(len(data)):
        if data.loc[i, 'speaker'] == talking:
            data_dict[talking].append(data.loc[i, 'speech_cleaned'])





for speaker in data_dict:
    
    # Convert each list into a single space-separated string (speeches converted into 1 item)
    data_dict[speaker] = ' '.join(data_dict[speaker])

    # split that string into a list of words
    data_dict[speaker] = data_dict[speaker].split()

    # save the list into respective speaker
    globals()[speaker] = data_dict[speaker]





# ensure all alphabets are low case

# List of lists
all_lists = [First_Citizen, All, Second_Citizen, MENENIUS, MARCIUS]

# Process each list
for i in range(len(all_lists)):
    for j in range(len(all_lists[i])):
        all_lists[i][j] = all_lists[i][j].lower()





# List of lists of speeches
all_lists = [First_Citizen, All, Second_Citizen, MENENIUS, MARCIUS]

# Corresponding variable names for clarity
speaker_names = ['first_citizen', 'all', 'second_citizen', 'menenius', 'marcius']

# Store the resulting transition matrices in a dictionary
transition_matrices = {}

# Loop through each list and compute the transition matrix
for i in range(len(all_lists)):
    transition_matrices[speaker_names[i]] = transition_matrix(all_lists[i])


transition_matrices['menenius']


# save the files into CSVs

for name, matrix in transition_matrices.items():
    matrix.to_csv(f"{name}_transition_matrix.csv", index=True)





All = pd.DataFrame(All, columns=['speech_list'])
All = list(dict.fromkeys(All))
All.to_csv("all_speech_list.csv", index=True)

First_Citizen = pd.DataFrame(First_Citizen, columns=['speech_list'])
All = list(dict.fromkeys(All))
First_Citizen.to_csv("first_citizen_speech_list.csv", index=True)

Second_Citizen = pd.DataFrame(Second_Citizen, columns=['speech_list'])
Second_Citizen.to_csv("second_citizen_speech_list.csv", index=True)

MENENIUS = pd.DataFrame(MENENIUS, columns=['speech_list'])
MENENIUS.to_csv("menenius_speech_list.csv", index=True)

MARCIUS = pd.DataFrame(MARCIUS, columns=['speech_list'])
MARCIUS.to_csv("marcius_speech_list.csv", index=True)




