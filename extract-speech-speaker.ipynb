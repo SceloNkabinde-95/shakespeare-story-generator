{
 "cells": [
  {
   "cell_type": "markdown",
   "id": "01cef2d8-c061-4d6b-bb6e-1416ccc1c1d7",
   "metadata": {},
   "source": [
    "# Import the full story"
   ]
  },
  {
   "cell_type": "markdown",
   "id": "27575422-4914-41fa-8efb-4493e9f7e88b",
   "metadata": {},
   "source": [
    "This code creates a list from the text file by creating a new item every time a new line is being created.\n",
    "\n",
    "e.g. for the two speeches:\n",
    "First Citizen:\n",
    "Before we proceed any further, hear me speak.\n",
    "\n",
    "All:\n",
    "Speak, speak.\n",
    "\n",
    "The code will consider the first instance of a new line as the point after \"First Citezen:\", so the line \"First Citezen:\" will be the first item.\n",
    "Then the next item starts at \"Before ...\" and ends at \"speak.\" since a new line starts there after"
   ]
  },
  {
   "cell_type": "code",
   "execution_count": 1,
   "id": "6e96ba6f-726f-47cc-b518-95b02ca5129f",
   "metadata": {},
   "outputs": [],
   "source": [
    "import pandas as pd\n",
    "\n",
    "# Load the text file and store each line in a list\n",
    "with open(\"full-story.txt\", \"r\", encoding=\"utf-8\") as f:\n",
    "    lines = f.readlines()"
   ]
  },
  {
   "cell_type": "markdown",
   "id": "f56e22c0-1e1d-4f0c-aef4-62ffad841ea4",
   "metadata": {},
   "source": [
    "# Extracting the speakers and speeches from the list\n",
    "\n",
    "From the list we can see that (after the 1st two items) a speaker is always found immediately after each item that contains '\\n', and the relevant speeches are found between a speaker and the next occuring '\\n' item.\n",
    "\n",
    "Therefore, in our logic we first create a list of all indexes where '\\n' items are found, and then we use that to locate the speaker and then speeches."
   ]
  },
  {
   "cell_type": "code",
   "execution_count": 2,
   "id": "dc8d395a-5c5b-4707-b856-5780702ea86b",
   "metadata": {},
   "outputs": [],
   "source": [
    "# Run a loop to create a list of indexes:\n",
    "\n",
    "n_indexes = []\n",
    "\n",
    "for i in range(len(lines)):\n",
    "    if lines[i] == '\\n':\n",
    "        n_indexes.append(i)"
   ]
  },
  {
   "cell_type": "code",
   "execution_count": 7,
   "id": "e5d61f62-380a-4995-81c5-1f0ad72cc480",
   "metadata": {},
   "outputs": [],
   "source": [
    "# Locate all the speakers\n",
    "\n",
    "speaker = []\n",
    "\n",
    "for i in n_indexes:\n",
    "    speaker.append(lines[i+1])"
   ]
  },
  {
   "cell_type": "code",
   "execution_count": 11,
   "id": "bc6d2e95-9fcf-443f-b98a-e17ff928bd74",
   "metadata": {},
   "outputs": [
    {
     "data": {
      "text/plain": [
       "310"
      ]
     },
     "execution_count": 11,
     "metadata": {},
     "output_type": "execute_result"
    }
   ],
   "source": [
    "# find the number of all unique values of speaker \n",
    "len(list(set(speaker)))"
   ]
  },
  {
   "cell_type": "code",
   "execution_count": null,
   "id": "46d43b3d-0802-4fda-b9ff-86c8d29d35eb",
   "metadata": {},
   "outputs": [],
   "source": []
  }
 ],
 "metadata": {
  "kernelspec": {
   "display_name": "Python 3 (ipykernel)",
   "language": "python",
   "name": "python3"
  },
  "language_info": {
   "codemirror_mode": {
    "name": "ipython",
    "version": 3
   },
   "file_extension": ".py",
   "mimetype": "text/x-python",
   "name": "python",
   "nbconvert_exporter": "python",
   "pygments_lexer": "ipython3",
   "version": "3.10.12"
  }
 },
 "nbformat": 4,
 "nbformat_minor": 5
}
