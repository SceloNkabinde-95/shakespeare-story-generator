{
 "cells": [
  {
   "cell_type": "markdown",
   "id": "e690c751-d908-427a-92e4-dc12822a6bd0",
   "metadata": {},
   "source": [
    "# Data Preparation"
   ]
  },
  {
   "cell_type": "code",
   "execution_count": 2,
   "id": "3ce63bc4-7a2c-4610-aed5-2712f17d44ec",
   "metadata": {},
   "outputs": [],
   "source": [
    "import numpy as np\n",
    "import pandas as pd\n",
    "\n",
    "data = pd.read_csv(\"speaker-speech.csv\")"
   ]
  },
  {
   "cell_type": "markdown",
   "id": "66974d61-2d71-476e-8558-9da0d8f98e24",
   "metadata": {},
   "source": [
    "The speakers First Citizen and Second Citizen have spaces within them and since we'll be working with these from a dataframe and list perspective it's better to transcribe the spaces into underscores until the final datasets"
   ]
  },
  {
   "cell_type": "code",
   "execution_count": 3,
   "id": "f4b5a5c8-1166-45cb-9085-2523650a7269",
   "metadata": {},
   "outputs": [],
   "source": [
    "data['speaker'] = data['speaker'].str.replace('First Citizen', 'First_Citizen', regex=False)\n",
    "data['speaker'] = data['speaker'].str.replace('Second Citizen', 'Second_Citizen', regex=False)"
   ]
  },
  {
   "cell_type": "code",
   "execution_count": 4,
   "id": "605a787a-c013-419c-95f0-abe12ca18482",
   "metadata": {},
   "outputs": [],
   "source": [
    "# convert the speaker column into a list\n",
    "\n",
    "speaker = data['speaker'].tolist()\n",
    "\n",
    "# initialize a data dictionary to store the different lists\n",
    "\n",
    "data_dict = {}\n",
    "\n",
    "# create a list of the unique speakers to loop through\n",
    "unique_speaker = list(dict.fromkeys(speaker))\n",
    "\n",
    "for talking in unique_speaker:\n",
    "    data_dict[talking] = []  # Initialize the list for each speaker\n",
    "    for i in range(len(data)):\n",
    "        if data.loc[i, 'speaker'] == talking:\n",
    "            data_dict[talking].append(data.loc[i, 'speech_cleaned'])"
   ]
  },
  {
   "cell_type": "markdown",
   "id": "693ac012-73ea-4721-b928-24bb037bb2c2",
   "metadata": {},
   "source": [
    "# Determine the count of words per speaker\n",
    "\n",
    "Our goals is to use these results in the speech generation by randomly selecting the number of words that speaker's speech may be"
   ]
  },
  {
   "cell_type": "code",
   "execution_count": 6,
   "id": "a18a34b0-4ef0-4874-81b5-7ae6f96973cf",
   "metadata": {},
   "outputs": [],
   "source": [
    "# List of lists of speeches\n",
    "all_lists = [data_dict['First_Citizen'], data_dict['All'], data_dict['Second_Citizen'], data_dict['MENENIUS'], data_dict['MARCIUS']]\n",
    "\n",
    "# Corresponding variable names for clarity\n",
    "speaker_names = ['first_citizen', 'all', 'second_citizen', 'menenius', 'marcius']\n",
    "\n",
    "# Store the resulting word counts in a dictionary\n",
    "speech_words_count = {}\n",
    "\n",
    "# Loop through each list and compute the count of words\n",
    "for i in range(len(all_lists)):\n",
    "    speech_list = all_lists[i]\n",
    "    speech_list_count = []\n",
    "    for j in range(len(speech_list)):\n",
    "         speech_list_count.append(len(speech_list[j].split()))\n",
    "    speech_words_count[speaker_names[i]] = speech_list_count"
   ]
  },
  {
   "cell_type": "code",
   "execution_count": 8,
   "id": "714e0ab7-fdc7-4903-9cb3-7903e5c5e210",
   "metadata": {},
   "outputs": [],
   "source": [
    "# save the files into CSVs\n",
    "\n",
    "for name, word_count in speech_words_count.items():\n",
    "    df = pd.DataFrame(word_count, columns=['word'])\n",
    "    df.to_csv(f\"{name}_word_count.csv\", index=True)"
   ]
  },
  {
   "cell_type": "code",
   "execution_count": 9,
   "id": "f59530d7-ec8d-4e02-954e-90b8639e90c2",
   "metadata": {},
   "outputs": [],
   "source": [
    "all_count = pd.read_csv('all_word_count.csv')"
   ]
  },
  {
   "cell_type": "code",
   "execution_count": 10,
   "id": "58c6adf1-8171-491d-b819-5366a17917bb",
   "metadata": {},
   "outputs": [
    {
     "data": {
      "text/html": [
       "<div>\n",
       "<style scoped>\n",
       "    .dataframe tbody tr th:only-of-type {\n",
       "        vertical-align: middle;\n",
       "    }\n",
       "\n",
       "    .dataframe tbody tr th {\n",
       "        vertical-align: top;\n",
       "    }\n",
       "\n",
       "    .dataframe thead th {\n",
       "        text-align: right;\n",
       "    }\n",
       "</style>\n",
       "<table border=\"1\" class=\"dataframe\">\n",
       "  <thead>\n",
       "    <tr style=\"text-align: right;\">\n",
       "      <th></th>\n",
       "      <th>Unnamed: 0</th>\n",
       "      <th>word</th>\n",
       "    </tr>\n",
       "  </thead>\n",
       "  <tbody>\n",
       "    <tr>\n",
       "      <th>0</th>\n",
       "      <td>0</td>\n",
       "      <td>2</td>\n",
       "    </tr>\n",
       "    <tr>\n",
       "      <th>1</th>\n",
       "      <td>1</td>\n",
       "      <td>2</td>\n",
       "    </tr>\n",
       "    <tr>\n",
       "      <th>2</th>\n",
       "      <td>2</td>\n",
       "      <td>4</td>\n",
       "    </tr>\n",
       "    <tr>\n",
       "      <th>3</th>\n",
       "      <td>3</td>\n",
       "      <td>10</td>\n",
       "    </tr>\n",
       "    <tr>\n",
       "      <th>4</th>\n",
       "      <td>4</td>\n",
       "      <td>10</td>\n",
       "    </tr>\n",
       "    <tr>\n",
       "      <th>5</th>\n",
       "      <td>5</td>\n",
       "      <td>2</td>\n",
       "    </tr>\n",
       "  </tbody>\n",
       "</table>\n",
       "</div>"
      ],
      "text/plain": [
       "   Unnamed: 0  word\n",
       "0           0     2\n",
       "1           1     2\n",
       "2           2     4\n",
       "3           3    10\n",
       "4           4    10\n",
       "5           5     2"
      ]
     },
     "execution_count": 10,
     "metadata": {},
     "output_type": "execute_result"
    }
   ],
   "source": [
    "all_count"
   ]
  },
  {
   "cell_type": "code",
   "execution_count": 51,
   "id": "9b7aacb0-4cbd-4d3e-b843-64180f35b172",
   "metadata": {},
   "outputs": [
    {
     "data": {
      "text/html": [
       "<div>\n",
       "<style scoped>\n",
       "    .dataframe tbody tr th:only-of-type {\n",
       "        vertical-align: middle;\n",
       "    }\n",
       "\n",
       "    .dataframe tbody tr th {\n",
       "        vertical-align: top;\n",
       "    }\n",
       "\n",
       "    .dataframe thead th {\n",
       "        text-align: right;\n",
       "    }\n",
       "</style>\n",
       "<table border=\"1\" class=\"dataframe\">\n",
       "  <thead>\n",
       "    <tr style=\"text-align: right;\">\n",
       "      <th></th>\n",
       "      <th>Unnamed: 0</th>\n",
       "      <th>word</th>\n",
       "    </tr>\n",
       "  </thead>\n",
       "  <tbody>\n",
       "    <tr>\n",
       "      <th>0</th>\n",
       "      <td>0</td>\n",
       "      <td>2</td>\n",
       "    </tr>\n",
       "    <tr>\n",
       "      <th>1</th>\n",
       "      <td>1</td>\n",
       "      <td>2</td>\n",
       "    </tr>\n",
       "    <tr>\n",
       "      <th>2</th>\n",
       "      <td>2</td>\n",
       "      <td>4</td>\n",
       "    </tr>\n",
       "    <tr>\n",
       "      <th>3</th>\n",
       "      <td>3</td>\n",
       "      <td>10</td>\n",
       "    </tr>\n",
       "    <tr>\n",
       "      <th>4</th>\n",
       "      <td>4</td>\n",
       "      <td>10</td>\n",
       "    </tr>\n",
       "    <tr>\n",
       "      <th>5</th>\n",
       "      <td>5</td>\n",
       "      <td>2</td>\n",
       "    </tr>\n",
       "  </tbody>\n",
       "</table>\n",
       "</div>"
      ],
      "text/plain": [
       "   Unnamed: 0  word\n",
       "0           0     2\n",
       "1           1     2\n",
       "2           2     4\n",
       "3           3    10\n",
       "4           4    10\n",
       "5           5     2"
      ]
     },
     "execution_count": 51,
     "metadata": {},
     "output_type": "execute_result"
    }
   ],
   "source": [
    "all_word_count = pd.read_csv('all_word_count.csv')\n",
    "all_word_count"
   ]
  },
  {
   "cell_type": "code",
   "execution_count": 52,
   "id": "95e453e0-0022-4d7c-956e-79832545dc65",
   "metadata": {},
   "outputs": [
    {
     "data": {
      "text/html": [
       "<div>\n",
       "<style scoped>\n",
       "    .dataframe tbody tr th:only-of-type {\n",
       "        vertical-align: middle;\n",
       "    }\n",
       "\n",
       "    .dataframe tbody tr th {\n",
       "        vertical-align: top;\n",
       "    }\n",
       "\n",
       "    .dataframe thead th {\n",
       "        text-align: right;\n",
       "    }\n",
       "</style>\n",
       "<table border=\"1\" class=\"dataframe\">\n",
       "  <thead>\n",
       "    <tr style=\"text-align: right;\">\n",
       "      <th></th>\n",
       "      <th>word</th>\n",
       "    </tr>\n",
       "  </thead>\n",
       "  <tbody>\n",
       "    <tr>\n",
       "      <th>0</th>\n",
       "      <td>2</td>\n",
       "    </tr>\n",
       "    <tr>\n",
       "      <th>1</th>\n",
       "      <td>2</td>\n",
       "    </tr>\n",
       "    <tr>\n",
       "      <th>2</th>\n",
       "      <td>4</td>\n",
       "    </tr>\n",
       "    <tr>\n",
       "      <th>3</th>\n",
       "      <td>10</td>\n",
       "    </tr>\n",
       "    <tr>\n",
       "      <th>4</th>\n",
       "      <td>10</td>\n",
       "    </tr>\n",
       "    <tr>\n",
       "      <th>5</th>\n",
       "      <td>2</td>\n",
       "    </tr>\n",
       "  </tbody>\n",
       "</table>\n",
       "</div>"
      ],
      "text/plain": [
       "   word\n",
       "0     2\n",
       "1     2\n",
       "2     4\n",
       "3    10\n",
       "4    10\n",
       "5     2"
      ]
     },
     "execution_count": 52,
     "metadata": {},
     "output_type": "execute_result"
    }
   ],
   "source": [
    "all_word_count = all_word_count.iloc[:, 1:]\n",
    "all_word_count"
   ]
  },
  {
   "cell_type": "code",
   "execution_count": 53,
   "id": "2defb8f3-8d51-43cf-a602-90df1bd58017",
   "metadata": {},
   "outputs": [],
   "source": [
    "all_word_count.to_csv(\"all_word_count.csv\", index=True)"
   ]
  },
  {
   "cell_type": "code",
   "execution_count": null,
   "id": "3f2dd0b6-25a7-43de-bd2b-aa803c4cd081",
   "metadata": {},
   "outputs": [],
   "source": []
  }
 ],
 "metadata": {
  "kernelspec": {
   "display_name": "Python 3 (ipykernel)",
   "language": "python",
   "name": "python3"
  },
  "language_info": {
   "codemirror_mode": {
    "name": "ipython",
    "version": 3
   },
   "file_extension": ".py",
   "mimetype": "text/x-python",
   "name": "python",
   "nbconvert_exporter": "python",
   "pygments_lexer": "ipython3",
   "version": "3.10.12"
  }
 },
 "nbformat": 4,
 "nbformat_minor": 5
}
