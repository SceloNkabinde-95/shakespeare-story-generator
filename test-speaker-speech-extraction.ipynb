{
 "cells": [
  {
   "cell_type": "code",
   "execution_count": 1,
   "id": "0d40ea91-aa11-4b10-8513-d18a87f6ab1d",
   "metadata": {},
   "outputs": [],
   "source": [
    "import pandas as pd\n",
    "\n",
    "# Load the text file\n",
    "with open(\"truncated-story.txt\", \"r\", encoding=\"utf-8\") as f:\n",
    "    lines = f.readlines()"
   ]
  },
  {
   "cell_type": "markdown",
   "id": "57f8a02f-e19e-4966-8ebe-dd467ce5fe65",
   "metadata": {},
   "source": [
    "This code creates a list from the text file by creating a new item every time a new line is being created.\n",
    "\n",
    "e.g. for the two speeches:\n",
    "First Citizen:\n",
    "Before we proceed any further, hear me speak.\n",
    "\n",
    "All:\n",
    "Speak, speak.\n",
    "\n",
    "The code will consider the first instance of a new line as the point after \"First Citezen:\", so the line \"First Citezen:\" will be the first item.\n",
    "Then the next item starts at \"Before ...\" and ends at \"speak.\" since a new line starts there after"
   ]
  },
  {
   "cell_type": "code",
   "execution_count": 2,
   "id": "99284afb-e286-4f2b-acc8-01ea02987a2f",
   "metadata": {},
   "outputs": [
    {
     "data": {
      "text/plain": [
       "['First Citizen:\\n',\n",
       " 'Before we proceed any further, hear me speak.\\n',\n",
       " '\\n',\n",
       " 'All:\\n',\n",
       " 'Speak, speak.\\n',\n",
       " '\\n',\n",
       " 'First Citizen:\\n',\n",
       " 'You are all resolved rather to die than to famish?\\n',\n",
       " '\\n',\n",
       " 'All:\\n',\n",
       " 'Resolved. resolved.\\n',\n",
       " '\\n',\n",
       " 'First Citizen:\\n',\n",
       " 'First, you know Caius Marcius is chief enemy to the people.\\n',\n",
       " '\\n',\n",
       " 'All:\\n',\n",
       " \"We know't, we know't.\\n\",\n",
       " '\\n',\n",
       " 'First Citizen:\\n',\n",
       " \"Let us kill him, and we'll have corn at our own price.\\n\",\n",
       " \"Is't a verdict?\\n\",\n",
       " '\\n',\n",
       " 'All:\\n',\n",
       " \"No more talking on't; let it be done: away, away!\\n\",\n",
       " '\\n',\n",
       " 'Second Citizen:\\n',\n",
       " 'One word, good citizens.\\n',\n",
       " '\\n',\n",
       " 'First Citizen:\\n',\n",
       " 'We are accounted poor citizens, the patricians good.\\n',\n",
       " 'What authority surfeits on would relieve us: if they\\n',\n",
       " 'would yield us but the superfluity, while it were\\n',\n",
       " 'wholesome, we might guess they relieved us humanely;\\n',\n",
       " 'but they think we are too dear: the leanness that\\n',\n",
       " 'afflicts us, the object of our misery, is as an\\n',\n",
       " 'inventory to particularise their abundance; our\\n',\n",
       " 'sufferance is a gain to them Let us revenge this with\\n',\n",
       " 'our pikes, ere we become rakes: for the gods know I\\n',\n",
       " 'speak this in hunger for bread, not in thirst for revenge.\\n',\n",
       " '\\n',\n",
       " 'Second Citizen:\\n',\n",
       " 'Would you proceed especially against Caius Marcius?\\n',\n",
       " '\\n',\n",
       " 'All:\\n',\n",
       " \"Against him first: he's a very dog to the commonalty.\\n\"]"
      ]
     },
     "execution_count": 2,
     "metadata": {},
     "output_type": "execute_result"
    }
   ],
   "source": [
    "lines"
   ]
  },
  {
   "cell_type": "markdown",
   "id": "89d738ef-b025-4ded-bccd-f2abcd67af99",
   "metadata": {},
   "source": [
    "## Extracting the speakers and speeches from the list"
   ]
  },
  {
   "cell_type": "markdown",
   "id": "94811ab5-8bd1-4015-98c8-fb2e026c6589",
   "metadata": {},
   "source": [
    "From the list we can see that (after the 1st two items) a speaker is always found immediately after each item that contains '\\n', and the relevant speeches are found between a speaker and the next occuring '\\n' item.\n",
    "\n",
    "Therefore, in our logic we first create a list of all indexes where '\\n' items are found, and then we use that to locate the speaker and then speeches."
   ]
  },
  {
   "cell_type": "code",
   "execution_count": 3,
   "id": "658896f5-bdbe-48ca-9451-e733e97efa07",
   "metadata": {},
   "outputs": [],
   "source": [
    "# Run a loop to create a list of indexes:\n",
    "\n",
    "n_indexes = []\n",
    "\n",
    "for i in range(len(lines)):\n",
    "    if lines[i] == '\\n':\n",
    "        n_indexes.append(i)"
   ]
  },
  {
   "cell_type": "code",
   "execution_count": 4,
   "id": "cdc11bfd-d379-4d6e-be0d-af23fb169a3a",
   "metadata": {},
   "outputs": [
    {
     "data": {
      "text/plain": [
       "[2, 5, 8, 11, 14, 17, 21, 24, 27, 39, 42]"
      ]
     },
     "execution_count": 4,
     "metadata": {},
     "output_type": "execute_result"
    }
   ],
   "source": [
    "n_indexes"
   ]
  },
  {
   "cell_type": "code",
   "execution_count": 91,
   "id": "2331b7e0-b0a5-4909-9f75-fa3f3b663ea4",
   "metadata": {},
   "outputs": [],
   "source": [
    "# Locate all the speakers\n",
    "\n",
    "speaker = []\n",
    "\n",
    "for i in n_indexes:\n",
    "    speaker.append(lines[i+1])"
   ]
  },
  {
   "cell_type": "code",
   "execution_count": 92,
   "id": "5e37e0e5-f5b2-40d3-aeff-1c22ce6bb80b",
   "metadata": {},
   "outputs": [
    {
     "data": {
      "text/plain": [
       "['All:\\n',\n",
       " 'First Citizen:\\n',\n",
       " 'All:\\n',\n",
       " 'First Citizen:\\n',\n",
       " 'All:\\n',\n",
       " 'First Citizen:\\n',\n",
       " 'All:\\n',\n",
       " 'Second Citizen:\\n',\n",
       " 'First Citizen:\\n',\n",
       " 'Second Citizen:\\n',\n",
       " 'All:\\n']"
      ]
     },
     "execution_count": 92,
     "metadata": {},
     "output_type": "execute_result"
    }
   ],
   "source": [
    "speaker"
   ]
  },
  {
   "cell_type": "code",
   "execution_count": 93,
   "id": "28fb62f1-c820-4d23-bdc3-25a6ac583cc2",
   "metadata": {},
   "outputs": [
    {
     "data": {
      "text/plain": [
       "['Speak, speak.\\n']"
      ]
     },
     "execution_count": 93,
     "metadata": {},
     "output_type": "execute_result"
    }
   ],
   "source": [
    "lines[2+1+1:5]"
   ]
  },
  {
   "cell_type": "code",
   "execution_count": 94,
   "id": "6787ee4c-4c5e-4d47-a597-537e76a378b1",
   "metadata": {},
   "outputs": [
    {
     "data": {
      "text/plain": [
       "\"Against him first: he's a very dog to the commonalty.\\n\""
      ]
     },
     "execution_count": 94,
     "metadata": {},
     "output_type": "execute_result"
    }
   ],
   "source": [
    "lines[-1]"
   ]
  },
  {
   "cell_type": "code",
   "execution_count": 95,
   "id": "6e44b2b7-37ca-4386-a0a4-e21ab33d7668",
   "metadata": {},
   "outputs": [],
   "source": [
    "# Now locate the relevant speeaches\n",
    "\n",
    "speech = []\n",
    "\n",
    "for i in range(len(n_indexes)):\n",
    "    if i+1 < len(n_indexes):\n",
    "        speech.append(lines[n_indexes[i]+1+1:n_indexes[i+1]])\n",
    "\n",
    "# cater for the final index\n",
    "speech.append(lines[n_indexes[-1]+1+1])"
   ]
  },
  {
   "cell_type": "code",
   "execution_count": 96,
   "id": "fcdf3c05-174c-4311-9633-f04d72da2446",
   "metadata": {},
   "outputs": [
    {
     "data": {
      "text/plain": [
       "[['Speak, speak.\\n'],\n",
       " ['You are all resolved rather to die than to famish?\\n'],\n",
       " ['Resolved. resolved.\\n'],\n",
       " ['First, you know Caius Marcius is chief enemy to the people.\\n'],\n",
       " [\"We know't, we know't.\\n\"],\n",
       " [\"Let us kill him, and we'll have corn at our own price.\\n\",\n",
       "  \"Is't a verdict?\\n\"],\n",
       " [\"No more talking on't; let it be done: away, away!\\n\"],\n",
       " ['One word, good citizens.\\n'],\n",
       " ['We are accounted poor citizens, the patricians good.\\n',\n",
       "  'What authority surfeits on would relieve us: if they\\n',\n",
       "  'would yield us but the superfluity, while it were\\n',\n",
       "  'wholesome, we might guess they relieved us humanely;\\n',\n",
       "  'but they think we are too dear: the leanness that\\n',\n",
       "  'afflicts us, the object of our misery, is as an\\n',\n",
       "  'inventory to particularise their abundance; our\\n',\n",
       "  'sufferance is a gain to them Let us revenge this with\\n',\n",
       "  'our pikes, ere we become rakes: for the gods know I\\n',\n",
       "  'speak this in hunger for bread, not in thirst for revenge.\\n'],\n",
       " ['Would you proceed especially against Caius Marcius?\\n'],\n",
       " \"Against him first: he's a very dog to the commonalty.\\n\"]"
      ]
     },
     "execution_count": 96,
     "metadata": {},
     "output_type": "execute_result"
    }
   ],
   "source": [
    "speech"
   ]
  },
  {
   "cell_type": "code",
   "execution_count": 97,
   "id": "92373069-e6ca-4f35-9da2-cc6d34bf6047",
   "metadata": {},
   "outputs": [
    {
     "data": {
      "text/plain": [
       "['First Citizen:\\n',\n",
       " 'All:\\n',\n",
       " 'First Citizen:\\n',\n",
       " 'All:\\n',\n",
       " 'First Citizen:\\n',\n",
       " 'All:\\n',\n",
       " 'First Citizen:\\n',\n",
       " 'All:\\n',\n",
       " 'Second Citizen:\\n',\n",
       " 'First Citizen:\\n',\n",
       " 'Second Citizen:\\n',\n",
       " 'All:\\n']"
      ]
     },
     "execution_count": 97,
     "metadata": {},
     "output_type": "execute_result"
    }
   ],
   "source": [
    "# Now we account for the first speaker and the first speech:\n",
    "\n",
    "speaker.insert(0, lines[0])\n",
    "speaker"
   ]
  },
  {
   "cell_type": "code",
   "execution_count": 98,
   "id": "88024edd-ce98-4ee9-a236-1fbd3f2e7b89",
   "metadata": {},
   "outputs": [
    {
     "data": {
      "text/plain": [
       "['Before we proceed any further, hear me speak.\\n',\n",
       " ['Speak, speak.\\n'],\n",
       " ['You are all resolved rather to die than to famish?\\n'],\n",
       " ['Resolved. resolved.\\n'],\n",
       " ['First, you know Caius Marcius is chief enemy to the people.\\n'],\n",
       " [\"We know't, we know't.\\n\"],\n",
       " [\"Let us kill him, and we'll have corn at our own price.\\n\",\n",
       "  \"Is't a verdict?\\n\"],\n",
       " [\"No more talking on't; let it be done: away, away!\\n\"],\n",
       " ['One word, good citizens.\\n'],\n",
       " ['We are accounted poor citizens, the patricians good.\\n',\n",
       "  'What authority surfeits on would relieve us: if they\\n',\n",
       "  'would yield us but the superfluity, while it were\\n',\n",
       "  'wholesome, we might guess they relieved us humanely;\\n',\n",
       "  'but they think we are too dear: the leanness that\\n',\n",
       "  'afflicts us, the object of our misery, is as an\\n',\n",
       "  'inventory to particularise their abundance; our\\n',\n",
       "  'sufferance is a gain to them Let us revenge this with\\n',\n",
       "  'our pikes, ere we become rakes: for the gods know I\\n',\n",
       "  'speak this in hunger for bread, not in thirst for revenge.\\n'],\n",
       " ['Would you proceed especially against Caius Marcius?\\n'],\n",
       " \"Against him first: he's a very dog to the commonalty.\\n\"]"
      ]
     },
     "execution_count": 98,
     "metadata": {},
     "output_type": "execute_result"
    }
   ],
   "source": [
    "speech.insert(0, lines[1])\n",
    "speech"
   ]
  },
  {
   "cell_type": "code",
   "execution_count": 99,
   "id": "7f0f5750-0ac3-4bdd-8140-17b84a2bf242",
   "metadata": {},
   "outputs": [],
   "source": [
    "# Extract the data within delimiters to clean the text within:\n",
    "\n",
    "# modified_text = speaker[0].replace(\":\\n\", \"\")\n",
    "\n",
    "for i in range(len(speaker)):\n",
    "   speaker[i] = speaker[i].replace(\":\\n\",\"\")\n",
    "\n",
    "for i in range(len(speech)):\n",
    "    if i == 0:\n",
    "        speech[i] = speech[i].replace(\"\\n\",\"\")\n",
    "    else:\n",
    "        if len(speech[i]) == 1:\n",
    "            speech[i] = speech[i][0].replace(\"\\n\",\"\")\n",
    "        # else:\n",
    "        #     for j in range(len(speech[i])):\n",
    "        #         speech[i] = speech[i][j].replace(\"\\n\",\"\")\n",
    "speech[-1] = speech[-1].replace(\"\\n\",\"\")"
   ]
  },
  {
   "cell_type": "code",
   "execution_count": 100,
   "id": "54abe515-7a00-44a6-aab5-12e811699c22",
   "metadata": {},
   "outputs": [
    {
     "data": {
      "text/plain": [
       "['First Citizen',\n",
       " 'All',\n",
       " 'First Citizen',\n",
       " 'All',\n",
       " 'First Citizen',\n",
       " 'All',\n",
       " 'First Citizen',\n",
       " 'All',\n",
       " 'Second Citizen',\n",
       " 'First Citizen',\n",
       " 'Second Citizen',\n",
       " 'All']"
      ]
     },
     "execution_count": 100,
     "metadata": {},
     "output_type": "execute_result"
    }
   ],
   "source": [
    "speaker"
   ]
  },
  {
   "cell_type": "code",
   "execution_count": 101,
   "id": "9cd372aa-1b97-48c7-84e4-7d9730d9f083",
   "metadata": {},
   "outputs": [
    {
     "data": {
      "text/plain": [
       "['Before we proceed any further, hear me speak.',\n",
       " 'Speak, speak.',\n",
       " 'You are all resolved rather to die than to famish?',\n",
       " 'Resolved. resolved.',\n",
       " 'First, you know Caius Marcius is chief enemy to the people.',\n",
       " \"We know't, we know't.\",\n",
       " [\"Let us kill him, and we'll have corn at our own price.\\n\",\n",
       "  \"Is't a verdict?\\n\"],\n",
       " \"No more talking on't; let it be done: away, away!\",\n",
       " 'One word, good citizens.',\n",
       " ['We are accounted poor citizens, the patricians good.\\n',\n",
       "  'What authority surfeits on would relieve us: if they\\n',\n",
       "  'would yield us but the superfluity, while it were\\n',\n",
       "  'wholesome, we might guess they relieved us humanely;\\n',\n",
       "  'but they think we are too dear: the leanness that\\n',\n",
       "  'afflicts us, the object of our misery, is as an\\n',\n",
       "  'inventory to particularise their abundance; our\\n',\n",
       "  'sufferance is a gain to them Let us revenge this with\\n',\n",
       "  'our pikes, ere we become rakes: for the gods know I\\n',\n",
       "  'speak this in hunger for bread, not in thirst for revenge.\\n'],\n",
       " 'Would you proceed especially against Caius Marcius?',\n",
       " \"Against him first: he's a very dog to the commonalty.\"]"
      ]
     },
     "execution_count": 101,
     "metadata": {},
     "output_type": "execute_result"
    }
   ],
   "source": [
    "speech"
   ]
  },
  {
   "cell_type": "code",
   "execution_count": 92,
   "id": "499e53ec-be2f-458f-a391-43e840522663",
   "metadata": {},
   "outputs": [],
   "source": [
    "test_list = ['a','b','c']"
   ]
  },
  {
   "cell_type": "code",
   "execution_count": 93,
   "id": "b4a2c1c5-135f-443b-93f1-2ba47cfe7d76",
   "metadata": {},
   "outputs": [],
   "source": [
    "test_list.insert(0,'d')"
   ]
  },
  {
   "cell_type": "code",
   "execution_count": 94,
   "id": "ae937956-b609-4cd6-8ddc-53fed448825e",
   "metadata": {},
   "outputs": [
    {
     "data": {
      "text/plain": [
       "['d', 'a', 'b', 'c']"
      ]
     },
     "execution_count": 94,
     "metadata": {},
     "output_type": "execute_result"
    }
   ],
   "source": [
    "test_list"
   ]
  },
  {
   "cell_type": "code",
   "execution_count": 102,
   "id": "f58e2239-57b5-415b-81a6-551d7cb4f86b",
   "metadata": {},
   "outputs": [
    {
     "data": {
      "text/plain": [
       "[6, 9]"
      ]
     },
     "execution_count": 102,
     "metadata": {},
     "output_type": "execute_result"
    }
   ],
   "source": [
    "speech_indexes = []\n",
    "\n",
    "for i in range(len(speech)):\n",
    "    if type(speech[i]) == list:\n",
    "        speech_indexes.append(i)\n",
    "\n",
    "speech_indexes"
   ]
  },
  {
   "cell_type": "code",
   "execution_count": 103,
   "id": "89e2cca9-0df0-47e9-9166-4e1c60c62857",
   "metadata": {},
   "outputs": [],
   "source": [
    "for n in speech_indexes:\n",
    "    speech_var = speech[n]\n",
    "    clean_speech_var = []\n",
    "\n",
    "    for i in range(len(speech_var)):\n",
    "        clean_speech_var.append(speech_var[i].replace(\"\\n\", \"\"))\n",
    "\n",
    "    speech.insert(n,clean_speech_var)\n",
    "    speech.pop(n+1)  "
   ]
  },
  {
   "cell_type": "code",
   "execution_count": 104,
   "id": "a2f56cbd-eda9-4c6e-95fa-f8ae14c00f44",
   "metadata": {},
   "outputs": [
    {
     "data": {
      "text/plain": [
       "['Before we proceed any further, hear me speak.',\n",
       " 'Speak, speak.',\n",
       " 'You are all resolved rather to die than to famish?',\n",
       " 'Resolved. resolved.',\n",
       " 'First, you know Caius Marcius is chief enemy to the people.',\n",
       " \"We know't, we know't.\",\n",
       " [\"Let us kill him, and we'll have corn at our own price.\", \"Is't a verdict?\"],\n",
       " \"No more talking on't; let it be done: away, away!\",\n",
       " 'One word, good citizens.',\n",
       " ['We are accounted poor citizens, the patricians good.',\n",
       "  'What authority surfeits on would relieve us: if they',\n",
       "  'would yield us but the superfluity, while it were',\n",
       "  'wholesome, we might guess they relieved us humanely;',\n",
       "  'but they think we are too dear: the leanness that',\n",
       "  'afflicts us, the object of our misery, is as an',\n",
       "  'inventory to particularise their abundance; our',\n",
       "  'sufferance is a gain to them Let us revenge this with',\n",
       "  'our pikes, ere we become rakes: for the gods know I',\n",
       "  'speak this in hunger for bread, not in thirst for revenge.'],\n",
       " 'Would you proceed especially against Caius Marcius?',\n",
       " \"Against him first: he's a very dog to the commonalty.\"]"
      ]
     },
     "execution_count": 104,
     "metadata": {},
     "output_type": "execute_result"
    }
   ],
   "source": [
    "speech"
   ]
  },
  {
   "cell_type": "code",
   "execution_count": 105,
   "id": "5719639a-b30c-4f9b-bf78-c3d4f108c28d",
   "metadata": {},
   "outputs": [
    {
     "data": {
      "text/plain": [
       "12"
      ]
     },
     "execution_count": 105,
     "metadata": {},
     "output_type": "execute_result"
    }
   ],
   "source": [
    "len(speech)"
   ]
  },
  {
   "cell_type": "code",
   "execution_count": 106,
   "id": "a2b58e35-3f75-4e2c-bd75-4f0b60666d16",
   "metadata": {},
   "outputs": [
    {
     "data": {
      "text/plain": [
       "12"
      ]
     },
     "execution_count": 106,
     "metadata": {},
     "output_type": "execute_result"
    }
   ],
   "source": [
    "len(speaker)"
   ]
  },
  {
   "cell_type": "code",
   "execution_count": null,
   "id": "8d83e9d6-c653-498b-b888-d292685e5a27",
   "metadata": {},
   "outputs": [],
   "source": []
  }
 ],
 "metadata": {
  "kernelspec": {
   "display_name": "Python 3 (ipykernel)",
   "language": "python",
   "name": "python3"
  },
  "language_info": {
   "codemirror_mode": {
    "name": "ipython",
    "version": 3
   },
   "file_extension": ".py",
   "mimetype": "text/x-python",
   "name": "python",
   "nbconvert_exporter": "python",
   "pygments_lexer": "ipython3",
   "version": "3.10.12"
  }
 },
 "nbformat": 4,
 "nbformat_minor": 5
}
