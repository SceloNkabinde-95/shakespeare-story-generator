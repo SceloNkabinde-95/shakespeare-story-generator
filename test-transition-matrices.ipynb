{
 "cells": [
  {
   "cell_type": "code",
   "execution_count": 2,
   "id": "4047629c-69eb-4170-84b8-97b37c75cddc",
   "metadata": {},
   "outputs": [
    {
     "name": "stdout",
     "output_type": "stream",
     "text": [
      "🔢 Transition Counts:\n",
      "   a  b  c  d\n",
      "a  0  1  1  1\n",
      "b  1  0  0  1\n",
      "c  0  1  0  0\n",
      "d  1  0  0  0\n",
      "\n",
      "📊 Transition Probabilities:\n",
      "     a     b     c     d\n",
      "a  0.0  0.33  0.33  0.33\n",
      "b  0.5  0.00  0.00  0.50\n",
      "c  0.0  1.00  0.00  0.00\n",
      "d  1.0  0.00  0.00  0.00\n"
     ]
    }
   ],
   "source": [
    "import numpy as np\n",
    "import pandas as pd\n",
    "\n",
    "def transition_matrix(seq, sort_states=True, normalize=False):\n",
    "    \"\"\"\n",
    "    Creates a transition matrix from a sequence of states.\n",
    "\n",
    "    Parameters:\n",
    "    - seq: list of states (e.g., ['a', 'b', 'c'])\n",
    "    - sort_states: if True, states are sorted alphabetically\n",
    "                   if False, the order of first appearance is preserved\n",
    "    - normalize: if True, returns a row-normalized probability matrix\n",
    "\n",
    "    Returns:\n",
    "    - pandas.DataFrame of transitions (counts or probabilities)\n",
    "    \"\"\"\n",
    "    if len(seq) < 2:\n",
    "        raise ValueError(\"Sequence must have at least two elements\")\n",
    "\n",
    "    # Get unique states in desired order\n",
    "    if sort_states:\n",
    "        states = sorted(set(seq))\n",
    "    else:\n",
    "        states = list(dict.fromkeys(seq))  # preserves first occurrence order\n",
    "\n",
    "    idx_map = {state: i for i, state in enumerate(states)}\n",
    "    n = len(states)\n",
    "\n",
    "    # Initialize zero matrix\n",
    "    count_matrix = np.zeros((n, n), dtype=int)\n",
    "\n",
    "    # Fill transition counts\n",
    "    for current, next_ in zip(seq, seq[1:]):\n",
    "        if current in idx_map and next_ in idx_map:\n",
    "            i, j = idx_map[current], idx_map[next_]\n",
    "            count_matrix[i, j] += 1\n",
    "\n",
    "    # Create DataFrame\n",
    "    df = pd.DataFrame(count_matrix, index=states, columns=states)\n",
    "\n",
    "    if normalize:\n",
    "        # Convert counts to probabilities row-wise\n",
    "        df = df.div(df.sum(axis=1), axis=0).fillna(0)\n",
    "\n",
    "    return df\n",
    "\n",
    "# ── Example usage ─────────────────────────────────────\n",
    "x = ['a', 'b', 'd', 'a', 'c', 'b', 'a', 'd']\n",
    "\n",
    "# Transition counts\n",
    "transition_counts = transition_matrix(x, sort_states=True, normalize=False)\n",
    "print(\"🔢 Transition Counts:\")\n",
    "print(transition_counts)\n",
    "\n",
    "# Transition probabilities\n",
    "transition_probs = transition_matrix(x, sort_states=True, normalize=True)\n",
    "print(\"\\n📊 Transition Probabilities:\")\n",
    "print(transition_probs.round(2))\n"
   ]
  },
  {
   "cell_type": "code",
   "execution_count": null,
   "id": "8c14c226-5d69-4b2b-86bc-8d01873ba337",
   "metadata": {},
   "outputs": [],
   "source": []
  }
 ],
 "metadata": {
  "kernelspec": {
   "display_name": "Python 3 (ipykernel)",
   "language": "python",
   "name": "python3"
  },
  "language_info": {
   "codemirror_mode": {
    "name": "ipython",
    "version": 3
   },
   "file_extension": ".py",
   "mimetype": "text/x-python",
   "name": "python",
   "nbconvert_exporter": "python",
   "pygments_lexer": "ipython3",
   "version": "3.10.12"
  }
 },
 "nbformat": 4,
 "nbformat_minor": 5
}
