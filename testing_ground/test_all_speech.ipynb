{
 "cells": [
  {
   "cell_type": "markdown",
   "id": "dfbbd65c-3ddb-456f-b25e-ddb473d182f1",
   "metadata": {},
   "source": [
    "# Data Preparation"
   ]
  },
  {
   "cell_type": "code",
   "execution_count": 6,
   "id": "4d5b7b3e-1bf9-4252-ab5c-5941b8c2e156",
   "metadata": {},
   "outputs": [],
   "source": [
    "import numpy as np\n",
    "import pandas as pd\n",
    "\n",
    "data = pd.read_csv(\"speaker-speech.csv\")"
   ]
  },
  {
   "cell_type": "markdown",
   "id": "9474f5cb-ccd5-4255-9439-1b301248be88",
   "metadata": {},
   "source": [
    "The speakers First Citizen and Second Citizen have spaces within them and since we'll be working with these from a dataframe and list perspective it's better to transcribe the spaces into underscores until the final datasets"
   ]
  },
  {
   "cell_type": "code",
   "execution_count": 7,
   "id": "5dabe5ae-2def-4584-b595-aa7c5ac59bc8",
   "metadata": {},
   "outputs": [],
   "source": [
    "data['speaker'] = data['speaker'].str.replace('First Citizen', 'First_Citizen', regex=False)\n",
    "data['speaker'] = data['speaker'].str.replace('Second Citizen', 'Second_Citizen', regex=False)"
   ]
  },
  {
   "cell_type": "code",
   "execution_count": 8,
   "id": "4df4966f-3fda-45e7-903e-0f3c90930677",
   "metadata": {},
   "outputs": [],
   "source": [
    "# convert the speaker column into a list\n",
    "\n",
    "speaker = data['speaker'].tolist()\n",
    "\n",
    "# initialize a data dictionary to store the different lists\n",
    "\n",
    "data_dict = {}\n",
    "\n",
    "# create a list of the unique speakers to loop through\n",
    "unique_speaker = list(dict.fromkeys(speaker))\n",
    "\n",
    "for talking in unique_speaker:\n",
    "    data_dict[talking] = []  # Initialize the list for each speaker\n",
    "    for i in range(len(data)):\n",
    "        if data.loc[i, 'speaker'] == talking:\n",
    "            data_dict[talking].append(data.loc[i, 'speech_cleaned'])"
   ]
  },
  {
   "cell_type": "code",
   "execution_count": 12,
   "id": "cc9ea439-4156-4b76-a002-f07c12d97612",
   "metadata": {},
   "outputs": [
    {
     "data": {
      "text/plain": [
       "['Speak speak',\n",
       " 'Resolved resolved',\n",
       " 'We knowt we knowt',\n",
       " 'No more talking ont let it be done away away',\n",
       " 'Against him first hes a very dog to the commonalty',\n",
       " 'Come come']"
      ]
     },
     "execution_count": 12,
     "metadata": {},
     "output_type": "execute_result"
    }
   ],
   "source": [
    "All = data_dict['All']\n",
    "All"
   ]
  },
  {
   "cell_type": "code",
   "execution_count": null,
   "id": "a6128d7d-72e3-4336-902e-4f0d1eca5815",
   "metadata": {},
   "outputs": [],
   "source": []
  }
 ],
 "metadata": {
  "kernelspec": {
   "display_name": "Python 3 (ipykernel)",
   "language": "python",
   "name": "python3"
  },
  "language_info": {
   "codemirror_mode": {
    "name": "ipython",
    "version": 3
   },
   "file_extension": ".py",
   "mimetype": "text/x-python",
   "name": "python",
   "nbconvert_exporter": "python",
   "pygments_lexer": "ipython3",
   "version": "3.10.12"
  }
 },
 "nbformat": 4,
 "nbformat_minor": 5
}
