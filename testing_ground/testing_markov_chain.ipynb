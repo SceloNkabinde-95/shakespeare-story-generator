{
 "cells": [
  {
   "cell_type": "code",
   "execution_count": 1,
   "id": "76d8ef94-ab53-4fe3-89af-9b65aa57bdae",
   "metadata": {},
   "outputs": [],
   "source": [
    "import numpy as np\n",
    "import pandas as pd"
   ]
  },
  {
   "cell_type": "code",
   "execution_count": 41,
   "id": "b1a2802b-fed7-410f-b80d-47b8cbe100af",
   "metadata": {},
   "outputs": [
    {
     "data": {
      "text/plain": [
       "[950, 30, 20]"
      ]
     },
     "execution_count": 41,
     "metadata": {},
     "output_type": "execute_result"
    }
   ],
   "source": [
    "curr_state1 = [950, 30, 20]\n",
    "curr_state1"
   ]
  },
  {
   "cell_type": "code",
   "execution_count": 42,
   "id": "057bd291-60e0-471b-80d3-bec457b5ffdf",
   "metadata": {},
   "outputs": [
    {
     "data": {
      "text/plain": [
       "[[0.95, 0.03, 0.02], [0.1, 0.8, 0.1], [0.09, 0.01, 0.9]]"
      ]
     },
     "execution_count": 42,
     "metadata": {},
     "output_type": "execute_result"
    }
   ],
   "source": [
    "transition_matrix1 = [[0.95, 0.03, 0.02],[0.1, 0.8, 0.1],[0.09, 0.01, 0.9]]\n",
    "transition_matrix1"
   ]
  },
  {
   "cell_type": "code",
   "execution_count": 10,
   "id": "0bf91d14-27d3-4517-abf9-b2989cefda36",
   "metadata": {},
   "outputs": [
    {
     "data": {
      "text/plain": [
       "3"
      ]
     },
     "execution_count": 10,
     "metadata": {},
     "output_type": "execute_result"
    }
   ],
   "source": [
    "len(transition_matrix[0])"
   ]
  },
  {
   "cell_type": "code",
   "execution_count": 43,
   "id": "6e76c5f9-f5c0-4c66-b0a8-8d2b51f9f9df",
   "metadata": {},
   "outputs": [],
   "source": [
    "def apply_transition_matrix(transition_matrix, curr_state):\n",
    "\n",
    "    next_state = [0] * len(curr_state)\n",
    "    \n",
    "    for j in range(len(transition_matrix[0])):\n",
    "            state_holder = [0] * len(curr_state)\n",
    "            for i in range(len(curr_state)):\n",
    "                \n",
    "                calc = curr_state[i]*transition_matrix[i][j]\n",
    "                state_holder[i] = calc\n",
    "               \n",
    "            next_state[j] = sum(state_holder)\n",
    "\n",
    "    return next_state"
   ]
  },
  {
   "cell_type": "code",
   "execution_count": 45,
   "id": "4e81c0de-13f5-4cbb-bc2d-3ea2e413aeab",
   "metadata": {},
   "outputs": [
    {
     "data": {
      "text/plain": [
       "[907.3, 52.7, 40.0]"
      ]
     },
     "execution_count": 45,
     "metadata": {},
     "output_type": "execute_result"
    }
   ],
   "source": [
    "next_state1 = apply_transition_matrix(transition_matrix1, curr_state1)\n",
    "next_state1"
   ]
  },
  {
   "cell_type": "code",
   "execution_count": null,
   "id": "e7190339-8249-408e-86a1-252dbf95cc97",
   "metadata": {},
   "outputs": [],
   "source": []
  }
 ],
 "metadata": {
  "kernelspec": {
   "display_name": "Python 3 (ipykernel)",
   "language": "python",
   "name": "python3"
  },
  "language_info": {
   "codemirror_mode": {
    "name": "ipython",
    "version": 3
   },
   "file_extension": ".py",
   "mimetype": "text/x-python",
   "name": "python",
   "nbconvert_exporter": "python",
   "pygments_lexer": "ipython3",
   "version": "3.10.12"
  }
 },
 "nbformat": 4,
 "nbformat_minor": 5
}
